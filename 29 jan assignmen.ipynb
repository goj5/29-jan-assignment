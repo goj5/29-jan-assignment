{
 "cells": [
  {
   "cell_type": "code",
   "execution_count": null,
   "id": "d2cc6a49-1a43-4c3e-aa0a-40d125a3332e",
   "metadata": {},
   "outputs": [],
   "source": [
    "Q1. WHO develop python programming language"
   ]
  },
  {
   "cell_type": "code",
   "execution_count": null,
   "id": "fc4ab5c5-67d7-43e2-9492-cbf938eaf33f",
   "metadata": {},
   "outputs": [],
   "source": [
    "Guido van Rossum"
   ]
  },
  {
   "cell_type": "code",
   "execution_count": null,
   "id": "1891b938-8901-4bd1-93dc-b184a2c63f43",
   "metadata": {},
   "outputs": [],
   "source": [
    "2. Which type of Programming does Python support? "
   ]
  },
  {
   "cell_type": "code",
   "execution_count": null,
   "id": "4f71ed3b-ffd7-46c0-9693-127674aa71e3",
   "metadata": {},
   "outputs": [],
   "source": [
    "Object-oriented programming and structured programming"
   ]
  },
  {
   "cell_type": "code",
   "execution_count": null,
   "id": "11a6ee26-cc76-4db5-bd02-65c391e836e2",
   "metadata": {},
   "outputs": [],
   "source": [
    "3. Is Python case sensitive when dealing with identifiers? "
   ]
  },
  {
   "cell_type": "code",
   "execution_count": null,
   "id": "ecfc63ca-ba6b-409c-853c-67e482739595",
   "metadata": {},
   "outputs": [],
   "source": [
    "YES"
   ]
  },
  {
   "cell_type": "code",
   "execution_count": null,
   "id": "f5540088-4ba9-48ac-a41b-66176547fca4",
   "metadata": {},
   "outputs": [],
   "source": [
    "4. What is the correct extension of the Python file? "
   ]
  },
  {
   "cell_type": "code",
   "execution_count": null,
   "id": "cadf8ddb-a524-467d-a6e2-266d2b0573da",
   "metadata": {},
   "outputs": [],
   "source": [
    ".py"
   ]
  },
  {
   "cell_type": "code",
   "execution_count": null,
   "id": "8f594124-d332-415b-879d-aff499132155",
   "metadata": {},
   "outputs": [],
   "source": [
    "5. Is Python code compiled or interpreted? "
   ]
  },
  {
   "cell_type": "code",
   "execution_count": null,
   "id": "b45e214c-a06c-463b-aeec-7a3628ca6041",
   "metadata": {},
   "outputs": [],
   "source": [
    "interpreted"
   ]
  },
  {
   "cell_type": "code",
   "execution_count": null,
   "id": "64d6308b-05ca-47b1-a584-f0ff7c9771f6",
   "metadata": {},
   "outputs": [],
   "source": [
    "6. Name a few blocks of code used to define in Python language?"
   ]
  },
  {
   "cell_type": "code",
   "execution_count": null,
   "id": "418ade38-4bb4-423a-940e-95825e2dc331",
   "metadata": {},
   "outputs": [],
   "source": [
    "a function body, class and a module"
   ]
  },
  {
   "cell_type": "code",
   "execution_count": null,
   "id": "f8aa1bed-dfe5-4e6a-953a-a61bb3b4cce2",
   "metadata": {},
   "outputs": [],
   "source": [
    "7. State a character used to give single-line comments in Python?"
   ]
  },
  {
   "cell_type": "raw",
   "id": "92a4c838-8711-4181-8861-c0c4e7588b35",
   "metadata": {},
   "source": [
    "hash symbol #"
   ]
  },
  {
   "cell_type": "code",
   "execution_count": null,
   "id": "cda384dc-b1df-45e2-bd77-caf37cbb8891",
   "metadata": {},
   "outputs": [],
   "source": [
    "8. Mention functions which can help us to find the version of python that we are currently working on?"
   ]
  },
  {
   "cell_type": "code",
   "execution_count": null,
   "id": "05b64373-86ff-4528-84f0-d372fd767c26",
   "metadata": {},
   "outputs": [],
   "source": [
    "sys.version"
   ]
  },
  {
   "cell_type": "code",
   "execution_count": null,
   "id": "6ddeb07a-3947-4f16-9b70-ea6ab198d6c4",
   "metadata": {},
   "outputs": [],
   "source": [
    "9. Python supports the creation of anonymous functions at runtime, using a construct called "
   ]
  },
  {
   "cell_type": "code",
   "execution_count": null,
   "id": "5d6bf1f5-4c9b-4ad9-9676-939779fbbf3b",
   "metadata": {},
   "outputs": [],
   "source": [
    "lambda function"
   ]
  },
  {
   "cell_type": "code",
   "execution_count": null,
   "id": "d068b960-fb34-464d-a41f-f1da6e4e8655",
   "metadata": {},
   "outputs": [],
   "source": [
    "10. What does pip stand for python? "
   ]
  },
  {
   "cell_type": "code",
   "execution_count": null,
   "id": "2020fe76-e1c6-427f-976f-2a65769baf63",
   "metadata": {},
   "outputs": [],
   "source": [
    "preffered installed program"
   ]
  },
  {
   "cell_type": "code",
   "execution_count": null,
   "id": "eef0fdbd-3ac9-46d8-bfc4-6b9a6cf3121f",
   "metadata": {},
   "outputs": [],
   "source": [
    "11. Mention a few built-in functions in python? "
   ]
  },
  {
   "cell_type": "code",
   "execution_count": null,
   "id": "93703b73-1a96-4d4d-ae87-2cbcdcd940ca",
   "metadata": {},
   "outputs": [],
   "source": [
    "print(),input(),length(),type()"
   ]
  },
  {
   "cell_type": "code",
   "execution_count": null,
   "id": "1750b44b-a232-42e7-adcb-bc79721fce6d",
   "metadata": {},
   "outputs": [],
   "source": [
    "12. What is the maximum possible length of an identifier in Python? "
   ]
  },
  {
   "cell_type": "code",
   "execution_count": null,
   "id": "bab34af8-ac10-4d96-84ce-0686e6c4388e",
   "metadata": {},
   "outputs": [],
   "source": [
    "79 character"
   ]
  },
  {
   "cell_type": "code",
   "execution_count": null,
   "id": "fa6e9bca-3377-42d5-a81d-8a72c2a1546f",
   "metadata": {},
   "outputs": [],
   "source": [
    "13. What are the benefits of using Python?"
   ]
  },
  {
   "cell_type": "code",
   "execution_count": null,
   "id": "7e07ed19-170c-44e1-b9bd-a0eda7d96206",
   "metadata": {},
   "outputs": [],
   "source": [
    "python is easy to use ,portable,free,platform independent"
   ]
  },
  {
   "cell_type": "code",
   "execution_count": null,
   "id": "bf8de7e5-8965-4a70-aefb-9f6d4a038bc6",
   "metadata": {},
   "outputs": [],
   "source": [
    "14. How is memory managed in Python? "
   ]
  },
  {
   "cell_type": "code",
   "execution_count": null,
   "id": "7f3fc7be-d556-4bb7-9ceb-f9d7f22881dd",
   "metadata": {},
   "outputs": [],
   "source": [
    "memory management is handled by a private heap space"
   ]
  },
  {
   "cell_type": "code",
   "execution_count": null,
   "id": "6130d815-25fb-49d7-876a-9a672ac0cbd5",
   "metadata": {},
   "outputs": [],
   "source": [
    "15. How to install Python on Windows and set path variables?"
   ]
  },
  {
   "cell_type": "code",
   "execution_count": null,
   "id": "235bca66-61aa-4c97-8f7c-359fcc0f9916",
   "metadata": {},
   "outputs": [],
   "source": [
    "Windows: Select the “Path” variable and click on the “Edit” button. In the “Edit Environment Variable” dialog, click on the “New” button and enter the path to your Python installation directory. Click “OK” to save the changes"
   ]
  },
  {
   "cell_type": "code",
   "execution_count": null,
   "id": "f795846b-34c0-4cc2-90ff-43077716a128",
   "metadata": {},
   "outputs": [],
   "source": [
    "16. Is indentation required in python? "
   ]
  },
  {
   "cell_type": "code",
   "execution_count": null,
   "id": "5b1a014b-bb95-495b-86f5-8c398a45c6a4",
   "metadata": {},
   "outputs": [],
   "source": [
    "yes,\n",
    "Indentation is mandatory in python to define the blocks of statements"
   ]
  }
 ],
 "metadata": {
  "kernelspec": {
   "display_name": "Python 3 (ipykernel)",
   "language": "python",
   "name": "python3"
  },
  "language_info": {
   "codemirror_mode": {
    "name": "ipython",
    "version": 3
   },
   "file_extension": ".py",
   "mimetype": "text/x-python",
   "name": "python",
   "nbconvert_exporter": "python",
   "pygments_lexer": "ipython3",
   "version": "3.10.8"
  }
 },
 "nbformat": 4,
 "nbformat_minor": 5
}
